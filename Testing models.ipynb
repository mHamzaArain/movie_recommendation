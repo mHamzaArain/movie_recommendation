{
 "cells": [
  {
   "cell_type": "code",
   "execution_count": 1,
   "id": "73a3144c",
   "metadata": {},
   "outputs": [],
   "source": [
    "## Testing Sentiment"
   ]
  },
  {
   "cell_type": "code",
   "execution_count": 2,
   "id": "3c816db7",
   "metadata": {},
   "outputs": [],
   "source": [
    "import numpy as np\n",
    "import pickle"
   ]
  },
  {
   "cell_type": "code",
   "execution_count": 3,
   "id": "d48a1af5",
   "metadata": {},
   "outputs": [],
   "source": [
    "# load the nlp model and tfidf vectorizer from disk\n",
    "filename = 'nlp_model.pkl'\n",
    "clf = pickle.load(open(filename, 'rb'))\n",
    "vectorizer = pickle.load(open('tranform.pkl','rb'))"
   ]
  },
  {
   "cell_type": "code",
   "execution_count": 4,
   "id": "b52283bc",
   "metadata": {},
   "outputs": [],
   "source": [
    "good_review = \"LIAR LIAR (1997) ***1/2 Jim Carrey, Maura Tierney, Jennifer Tilly, Swoosie Kurtz, Amanda Donohoe, Cary Elwes, Cheri Otari,Krista Allen.. Frenetically funny high concept comedy with Carrey cast as a chronic lying lawyer who finds himself under the spell of his 5 year old son's birthday wish for him to tell the truth for 24 hours with some truly inspired slapstick and painfully truthful one-liners. Tailor made for the elastic spastic talents of our boy Jim and finely attuned nuanced direction by Tom Shadyac.\""
   ]
  },
  {
   "cell_type": "code",
   "execution_count": 5,
   "id": "74b0fe47",
   "metadata": {},
   "outputs": [],
   "source": [
    "reviews_status = [] # list of comments (good or bad)\n",
    "\n",
    "# passing the review to our model\n",
    "movie_review_list = np.array([good_review])\n",
    "movie_vector = vectorizer.transform(movie_review_list)\n",
    "pred = clf.predict(movie_vector)\n",
    "reviews_status.append('Good' if pred else 'Bad')"
   ]
  },
  {
   "cell_type": "code",
   "execution_count": 6,
   "id": "45675411",
   "metadata": {
    "scrolled": true
   },
   "outputs": [
    {
     "data": {
      "text/plain": [
       "['Good']"
      ]
     },
     "execution_count": 6,
     "metadata": {},
     "output_type": "execute_result"
    }
   ],
   "source": [
    "reviews_status"
   ]
  },
  {
   "cell_type": "code",
   "execution_count": null,
   "id": "33ead006",
   "metadata": {},
   "outputs": [],
   "source": [
    "## Movie recommendation"
   ]
  },
  {
   "cell_type": "code",
   "execution_count": 8,
   "id": "261932bc",
   "metadata": {},
   "outputs": [],
   "source": [
    "import numpy as np\n",
    "import pandas as pd\n",
    "from sklearn.feature_extraction.text import CountVectorizer\n",
    "from sklearn.metrics.pairwise import cosine_similarity"
   ]
  },
  {
   "cell_type": "code",
   "execution_count": 11,
   "id": "25068206",
   "metadata": {},
   "outputs": [],
   "source": [
    "## Test Recommendation\n",
    "def create_similarity():\n",
    "    data = pd.read_csv('datasets/main_data.csv')\n",
    "    # creating a count matrix\n",
    "    cv = CountVectorizer()\n",
    "    count_matrix = cv.fit_transform(data['comb'])\n",
    "    # creating a similarity score matrix\n",
    "    similarity = cosine_similarity(count_matrix)\n",
    "    return data,similarity\n",
    "\n",
    "def rcmd(m):\n",
    "    m = m.lower()\n",
    "    try:\n",
    "        data.head()\n",
    "        similarity.shape\n",
    "    except:\n",
    "        data, similarity = create_similarity()\n",
    "    if m not in data['movie_title'].unique():\n",
    "        return('Sorry! The movie you requested is not in our database. Please check the spelling or try with some other movies')\n",
    "    else:\n",
    "        i = data.loc[data['movie_title']==m].index[0]\n",
    "        lst = list(enumerate(similarity[i]))\n",
    "        lst = sorted(lst, key = lambda x:x[1] ,reverse=True)\n",
    "        lst = lst[1:11] # excluding first item since it is the requested movie itself\n",
    "        l = []\n",
    "        for i in range(len(lst)):\n",
    "            a = lst[i][0]\n",
    "            l.append(data['movie_title'][a])\n",
    "        return l\n",
    "\n",
    "def similarity():\n",
    "    # movie = request.form['name']  \n",
    "    movie = \"The pink panther\"\n",
    "    rc = rcmd(movie)\n",
    "    if type(rc)==type('string'):\n",
    "        return rc\n",
    "    else:\n",
    "        m_str=\"---\".join(rc)\n",
    "        return m_str"
   ]
  },
  {
   "cell_type": "code",
   "execution_count": 12,
   "id": "6b888c77",
   "metadata": {},
   "outputs": [
    {
     "data": {
      "text/plain": [
       "'big fat liar---night at the museum: battle of the smithsonian---night at the museum: secret of the tomb---night at the museum---cheaper by the dozen---11:14---show dogs---open season---garfield 2---date night'"
      ]
     },
     "execution_count": 12,
     "metadata": {},
     "output_type": "execute_result"
    }
   ],
   "source": [
    "similarity()"
   ]
  },
  {
   "cell_type": "code",
   "execution_count": null,
   "id": "69c70e4b",
   "metadata": {},
   "outputs": [],
   "source": []
  }
 ],
 "metadata": {
  "kernelspec": {
   "display_name": "Python 3",
   "language": "python",
   "name": "python3"
  },
  "language_info": {
   "codemirror_mode": {
    "name": "ipython",
    "version": 3
   },
   "file_extension": ".py",
   "mimetype": "text/x-python",
   "name": "python",
   "nbconvert_exporter": "python",
   "pygments_lexer": "ipython3",
   "version": "3.8.8"
  }
 },
 "nbformat": 4,
 "nbformat_minor": 5
}
